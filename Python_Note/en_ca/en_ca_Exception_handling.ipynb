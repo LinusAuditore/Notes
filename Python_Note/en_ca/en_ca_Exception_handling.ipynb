{
 "cells": [
  {
   "cell_type": "markdown",
   "metadata": {},
   "source": [
    "# Exception Handling Part 01"
   ]
  },
  {
   "cell_type": "markdown",
   "metadata": {},
   "source": [
    "Before we start, we will elaborate on exception handling as much as possible. Be sure to distinguish between <b>exceptions</b> and <b>errors</b>"
   ]
  },
  {
   "cell_type": "markdown",
   "metadata": {},
   "source": [
    "## What is an error? What is an exception?"
   ]
  },
  {
   "cell_type": "markdown",
   "metadata": {},
   "source": [
    "### First, let’s take a look at what is an error"
   ]
  },
  {
   "cell_type": "markdown",
   "metadata": {},
   "source": [
    "<b>Error</b> is also called analysis error, which means that the belt does not meet the specifications and cannot be run at all."
   ]
  },
  {
   "cell_type": "code",
   "execution_count": 4,
   "metadata": {},
   "outputs": [
    {
     "ename": "SyntaxError",
     "evalue": "invalid syntax (<ipython-input-4-42ea4a5d202b>, line 2)",
     "output_type": "error",
     "traceback": [
      "\u001b[1;36m  File \u001b[1;32m\"<ipython-input-4-42ea4a5d202b>\"\u001b[1;36m, line \u001b[1;32m2\u001b[0m\n\u001b[1;33m    while True print('Hello world')\u001b[0m\n\u001b[1;37m                   ^\u001b[0m\n\u001b[1;31mSyntaxError\u001b[0m\u001b[1;31m:\u001b[0m invalid syntax\n"
     ]
    }
   ],
   "source": [
    "# demo\n",
    "while True print('Hello world')"
   ]
  },
  {
   "cell_type": "markdown",
   "metadata": {},
   "source": [
    "The parser outputs the line with the syntax error and displays an \"arrow\" pointing to the first error detected in this line. The error is caused by the token above the position indicated by the arrow (or at least it was detected here): In the example, the error was detected in the print () function because there is no colon (':') in front of it . The file name and line number are also output so that you can know where to check when the input comes from the script file."
   ]
  },
  {
   "cell_type": "markdown",
   "metadata": {},
   "source": [
    "### Next, let’s take a look at what is an exception."
   ]
  },
  {
   "cell_type": "markdown",
   "metadata": {},
   "source": [
    "Even if the code is expressed correctly, it may still cause problems at runtime. Just like \"I like to eat TV.\" this sentence has no grammar mistake, however, it doesn't make sense. Since TV is not food."
   ]
  },
  {
   "cell_type": "code",
   "execution_count": 1,
   "metadata": {},
   "outputs": [
    {
     "ename": "ZeroDivisionError",
     "evalue": "division by zero",
     "output_type": "error",
     "traceback": [
      "\u001b[1;31m---------------------------------------------------------------------------\u001b[0m",
      "\u001b[1;31mZeroDivisionError\u001b[0m                         Traceback (most recent call last)",
      "\u001b[1;32m<ipython-input-1-5f59c11e5a86>\u001b[0m in \u001b[0;36m<module>\u001b[1;34m\u001b[0m\n\u001b[0;32m      1\u001b[0m \u001b[1;31m# demo\u001b[0m\u001b[1;33m\u001b[0m\u001b[1;33m\u001b[0m\u001b[1;33m\u001b[0m\u001b[0m\n\u001b[1;32m----> 2\u001b[1;33m \u001b[0mb\u001b[0m\u001b[1;33m=\u001b[0m\u001b[1;36m123\u001b[0m\u001b[1;33m/\u001b[0m\u001b[1;36m0\u001b[0m\u001b[1;33m\u001b[0m\u001b[1;33m\u001b[0m\u001b[0m\n\u001b[0m",
      "\u001b[1;31mZeroDivisionError\u001b[0m: division by zero"
     ]
    }
   ],
   "source": [
    "# demo\n",
    "b=123/0"
   ]
  },
  {
   "cell_type": "markdown",
   "metadata": {},
   "source": [
    "The code above causes <b>ZeroDivisionError</b>, an exception. There is no error in the expression of b = 123/0, but there must be a problem when running, this is the exception <br>\n",
    "For various information about built-in exceptions, we can refer to: https://docs.python.org/zh-cn/3/library/exceptions.html#bltin-exceptions"
   ]
  },
  {
   "cell_type": "markdown",
   "metadata": {},
   "source": [
    "### Exception Handling"
   ]
  },
  {
   "cell_type": "markdown",
   "metadata": {},
   "source": [
    "Python provides methods that can handle exceptions. I will provide an example that requires the user to keep typing until a valid integer is entered (of cause the user can interrupt the operation just simply use control+c)."
   ]
  },
  {
   "cell_type": "code",
   "execution_count": 2,
   "metadata": {},
   "outputs": [
    {
     "name": "stdout",
     "output_type": "stream",
     "text": [
      "Please enter an interger：1.1\n",
      "This is not an interger, please try again!\n",
      "Please enter an interger：a\n",
      "This is not an interger, please try again!\n",
      "Please enter an interger：2\n"
     ]
    }
   ],
   "source": [
    "while True:\n",
    "    try:\n",
    "        x = int(input('Please enter an interger：'))\n",
    "        break\n",
    "    except ValueError:\n",
    "        print('This is not an interger, please try again!')\n",
    "    except KeyboardInterrupt:\n",
    "        print('This is not an interger, please try again!')"
   ]
  },
  {
   "cell_type": "markdown",
   "metadata": {},
   "source": [
    "This is how <b>try</b> work：<br>\n",
    "-First, run the subsentence under try（which is the code between <b>try</b> and <b>except</b>）。<br>\n",
    "-If there is no exception，then it will ignore <b>except</b> and complete the subsentence。<br>\n",
    "-If this is an exception，then ignore the remaining subsentence before <b>except</b>. Then, if the exception is the same type that <b>except</b> wanted，then run the code under <b>except</b>.<br>\n",
    "-If the exception is not the same type that <b>except</b> wanted，then this exception will be throw outside the <b>try...except</b> sentence; If no code handling this exception, then it will be an unhandled exception, the whole program will be stoped and throw this exception.<br>"
   ]
  },
  {
   "cell_type": "markdown",
   "metadata": {},
   "source": [
    "See more details on https://docs.python.org/zh-cn/3/tutorial/errors.html"
   ]
  }
 ],
 "metadata": {
  "kernelspec": {
   "display_name": "Python 3",
   "language": "python",
   "name": "python3"
  },
  "language_info": {
   "codemirror_mode": {
    "name": "ipython",
    "version": 3
   },
   "file_extension": ".py",
   "mimetype": "text/x-python",
   "name": "python",
   "nbconvert_exporter": "python",
   "pygments_lexer": "ipython3",
   "version": "3.7.4"
  }
 },
 "nbformat": 4,
 "nbformat_minor": 2
}
