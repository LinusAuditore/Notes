{
 "cells": [
  {
   "cell_type": "markdown",
   "metadata": {},
   "source": [
    "# Exceptionhandlung Teil 01"
   ]
  },
  {
   "cell_type": "markdown",
   "metadata": {},
   "source": [
    "Bevor wir beginnen, werden wir uns so ausführlich wie möglich mit der Ausnahmebehandlung befassen. Achten Sie darauf, zwischen <b> Exception </b> und <b> Error </b> zu unterscheiden"
   ]
  },
  {
   "cell_type": "markdown",
   "metadata": {},
   "source": [
    "## Was ist ein Error? Was ist eine Exception?"
   ]
  },
  {
   "cell_type": "markdown",
   "metadata": {},
   "source": [
    "### Schauen wir uns zunächst an, was ein Error ist"
   ]
  },
  {
   "cell_type": "markdown",
   "metadata": {},
   "source": [
    "<b> Error </b> wird auch als Analysefehler bezeichnet. Dies bedeutet, dass der Riemen nicht den Spezifikationen entspricht und überhaupt nicht ausgeführt werden kann."
   ]
  },
  {
   "cell_type": "code",
   "execution_count": 4,
   "metadata": {},
   "outputs": [
    {
     "ename": "SyntaxError",
     "evalue": "invalid syntax (<ipython-input-4-42ea4a5d202b>, line 2)",
     "output_type": "error",
     "traceback": [
      "\u001b[1;36m  File \u001b[1;32m\"<ipython-input-4-42ea4a5d202b>\"\u001b[1;36m, line \u001b[1;32m2\u001b[0m\n\u001b[1;33m    while True print('Hello world')\u001b[0m\n\u001b[1;37m                   ^\u001b[0m\n\u001b[1;31mSyntaxError\u001b[0m\u001b[1;31m:\u001b[0m invalid syntax\n"
     ]
    }
   ],
   "source": [
    "# demo\n",
    "while True print('Hello world')"
   ]
  },
  {
   "cell_type": "markdown",
   "metadata": {},
   "source": [
    "Der Parser gibt die Zeile mit dem Syntaxfehler aus und zeigt einen \"Pfeil\" an, der auf den ersten in dieser Zeile erkannten Fehler zeigt. Der Fehler wird durch das Token über der durch den Pfeil angegebenen Position verursacht (oder zumindest hier erkannt): Im Beispiel wurde der Fehler in der Funktion print () erkannt, da kein Doppelpunkt (':') vor Ihnen steht davon. Der Dateiname und die Zeilennummer werden ebenfalls ausgegeben, damit Sie wissen, wo Sie überprüfen müssen, wann die Eingabe aus der Skriptdatei stammt."
   ]
  },
  {
   "cell_type": "markdown",
   "metadata": {},
   "source": [
    "### Schauen wir uns als nächstes an, was eine Exception ist."
   ]
  },
  {
   "cell_type": "markdown",
   "metadata": {},
   "source": [
    "Selbst wenn der Code korrekt ausgedrückt wird, kann es zur Laufzeit zu Problemen kommen. Genau wie \"Ich esse gern Fernsehen.\" Dieser Satz hat keinen Grammatikfehler, macht aber keinen Sinn. Da ist Fernsehen kein Essen."
   ]
  },
  {
   "cell_type": "code",
   "execution_count": 1,
   "metadata": {},
   "outputs": [
    {
     "ename": "ZeroDivisionError",
     "evalue": "division by zero",
     "output_type": "error",
     "traceback": [
      "\u001b[1;31m---------------------------------------------------------------------------\u001b[0m",
      "\u001b[1;31mZeroDivisionError\u001b[0m                         Traceback (most recent call last)",
      "\u001b[1;32m<ipython-input-1-5f59c11e5a86>\u001b[0m in \u001b[0;36m<module>\u001b[1;34m\u001b[0m\n\u001b[0;32m      1\u001b[0m \u001b[1;31m# demo\u001b[0m\u001b[1;33m\u001b[0m\u001b[1;33m\u001b[0m\u001b[1;33m\u001b[0m\u001b[0m\n\u001b[1;32m----> 2\u001b[1;33m \u001b[0mb\u001b[0m\u001b[1;33m=\u001b[0m\u001b[1;36m123\u001b[0m\u001b[1;33m/\u001b[0m\u001b[1;36m0\u001b[0m\u001b[1;33m\u001b[0m\u001b[1;33m\u001b[0m\u001b[0m\n\u001b[0m",
      "\u001b[1;31mZeroDivisionError\u001b[0m: division by zero"
     ]
    }
   ],
   "source": [
    "# demo\n",
    "b=123/0"
   ]
  },
  {
   "cell_type": "markdown",
   "metadata": {},
   "source": [
    "Der obige Code verursacht <b> ZeroDivisionError </b>, eine Exception. Es gibt keinen Fehler im Ausdruck von b = 123/0, aber es muss ein Problem beim Ausführen geben, dies ist die Ausnahme <br>\n",
    "Verschiedene Informationen zu integrierten Ausnahmen finden Sie unter: https://docs.python.org/zh-cn/3/library/exceptions.html#bltin-exceptions"
   ]
  },
  {
   "cell_type": "markdown",
   "metadata": {},
   "source": [
    "### Exceptionhandlung"
   ]
  },
  {
   "cell_type": "markdown",
   "metadata": {},
   "source": [
    "Python bietet Methoden, die Exception behandeln können. Ich werde ein Beispiel bereitstellen, bei dem der Benutzer so lange tippen muss, bis eine gültige Ganzzahl eingegeben wird (natürlich kann der Benutzer den Vorgang unterbrechen, indem er einfach Strg + C verwendet)."
   ]
  },
  {
   "cell_type": "code",
   "execution_count": 1,
   "metadata": {},
   "outputs": [
    {
     "name": "stdout",
     "output_type": "stream",
     "text": [
      "Bitte geben Sie eine Ganzzahl ein:a\n",
      "Dies ist keine Ganzzahl, bitte versuchen Sie es erneut!\n",
      "Bitte geben Sie eine Ganzzahl ein:1.2\n",
      "Dies ist keine Ganzzahl, bitte versuchen Sie es erneut!\n",
      "Bitte geben Sie eine Ganzzahl ein:3\n"
     ]
    }
   ],
   "source": [
    "while True:\n",
    "    try:\n",
    "        x = int(input('Bitte geben Sie eine Ganzzahl ein:'))\n",
    "        break\n",
    "    except ValueError:\n",
    "        print('Dies ist keine Ganzzahl, bitte versuchen Sie es erneut!')\n",
    "    except KeyboardInterrupt:\n",
    "        print('Dies ist keine Ganzzahl, bitte versuchen Sie es erneut!')"
   ]
  },
  {
   "cell_type": "markdown",
   "metadata": {},
   "source": [
    "So funktioniert <b> try...except </b>: <br>\n",
    "-Führen Sie zunächst die Subsentenz unter try aus.(Dies ist der Code zwischen <b> try </b> und mit <b> except </b>von) <br>\n",
    "-Wenn es keine Exception gibt, wird <b> except </b> ignoriert und die Subsentenz vervollständigt\n",
    "-Wenn dies eine Exception ist, ignorieren Sie die verbleibende Folge vor <b> except </b>. Wenn die Exception vom selben Typ ist, den <b> except </b> wollte, führen Sie den Code unter <b> except </b> aus. <br>\n",
    "-Wenn die Exception nicht derselbe Typ ist, den <b> except </b> wollte, wird diese Exception außerhalb des <b> try ... except </b> -Satzes ausgelöst. Wenn kein Code diese Exception behandelt, handelt es sich um eine nicht behandelte Exception. Das gesamte Programm wird gestoppt und löst diese Exception aus. <br>"
   ]
  },
  {
   "cell_type": "markdown",
   "metadata": {},
   "source": [
    "Weitere Informationen finden Sie unter https://docs.python.org/zh-cn/3/tutorial/errors.html"
   ]
  }
 ],
 "metadata": {
  "kernelspec": {
   "display_name": "Python 3",
   "language": "python",
   "name": "python3"
  },
  "language_info": {
   "codemirror_mode": {
    "name": "ipython",
    "version": 3
   },
   "file_extension": ".py",
   "mimetype": "text/x-python",
   "name": "python",
   "nbconvert_exporter": "python",
   "pygments_lexer": "ipython3",
   "version": "3.7.4"
  }
 },
 "nbformat": 4,
 "nbformat_minor": 2
}
