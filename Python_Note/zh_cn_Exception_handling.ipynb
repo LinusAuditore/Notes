{
  "cells": [
    {
      "metadata": {},
      "cell_type": "markdown",
      "source": "# 异常处理"
    },
    {
      "metadata": {},
      "cell_type": "markdown",
      "source": "在开始之前，请注意这里我们将会尽可能详细阐述异常处理，一定要分清楚异常和错误的区别"
    },
    {
      "metadata": {},
      "cell_type": "markdown",
      "source": "## 什么是错误？什么是异常？"
    },
    {
      "metadata": {},
      "cell_type": "markdown",
      "source": "### 首先，我们来看一下，什么是错误"
    },
    {
      "metadata": {},
      "cell_type": "markdown",
      "source": "错误又称分析错误，意味着带么不符合规范，根本无法运行"
    },
    {
      "metadata": {
        "trusted": false
      },
      "cell_type": "code",
      "source": "# 以下，错误样例：\nwhile True print('Hello world')",
      "execution_count": 4,
      "outputs": [
        {
          "ename": "SyntaxError",
          "evalue": "invalid syntax (<ipython-input-4-42ea4a5d202b>, line 2)",
          "output_type": "error",
          "traceback": [
            "\u001b[1;36m  File \u001b[1;32m\"<ipython-input-4-42ea4a5d202b>\"\u001b[1;36m, line \u001b[1;32m2\u001b[0m\n\u001b[1;33m    while True print('Hello world')\u001b[0m\n\u001b[1;37m                   ^\u001b[0m\n\u001b[1;31mSyntaxError\u001b[0m\u001b[1;31m:\u001b[0m invalid syntax\n"
          ]
        }
      ]
    },
    {
      "metadata": {},
      "cell_type": "markdown",
      "source": "解析器会输出出现语法错误的那一行，并显示一个“箭头”，指向这行里面检测到第一个错误。 错误是由箭头指示的位置 上面 的 token 引起的（或者至少是在这里被检测出的）：在示例中，在 print() 这个函数中检测到了错误，因为在它前面少了个冒号 (':') 。文件名和行号也会被输出，以便输入来自脚本文件时你能知道去哪检查。"
    },
    {
      "metadata": {},
      "cell_type": "markdown",
      "source": "### 接下来，我们来看一下，什么是异常"
    },
    {
      "metadata": {},
      "cell_type": "markdown",
      "source": "即使代码在表达上正确，在运行时，依然有可能会引发错误"
    },
    {
      "metadata": {
        "trusted": false
      },
      "cell_type": "code",
      "source": "# 以下，异常代码\nb=123/0",
      "execution_count": 10,
      "outputs": [
        {
          "ename": "ZeroDivisionError",
          "evalue": "division by zero",
          "output_type": "error",
          "traceback": [
            "\u001b[1;31m---------------------------------------------------------------------------\u001b[0m",
            "\u001b[1;31mZeroDivisionError\u001b[0m                         Traceback (most recent call last)",
            "\u001b[1;32m<ipython-input-10-608ae74cd304>\u001b[0m in \u001b[0;36m<module>\u001b[1;34m\u001b[0m\n\u001b[0;32m      1\u001b[0m \u001b[1;31m# 以下，异常代码\u001b[0m\u001b[1;33m\u001b[0m\u001b[1;33m\u001b[0m\u001b[1;33m\u001b[0m\u001b[0m\n\u001b[1;32m----> 2\u001b[1;33m \u001b[0mb\u001b[0m\u001b[1;33m=\u001b[0m\u001b[1;36m123\u001b[0m\u001b[1;33m/\u001b[0m\u001b[1;36m0\u001b[0m\u001b[1;33m\u001b[0m\u001b[1;33m\u001b[0m\u001b[0m\n\u001b[0m",
            "\u001b[1;31mZeroDivisionError\u001b[0m: division by zero"
          ]
        }
      ]
    },
    {
      "metadata": {},
      "cell_type": "markdown",
      "source": "上面的代码是ZeroDivisionError,一个异常。b=123/0这段代码表达上并没有错误，但是运行时一定会发生错误，这就是异常<br>\n关于内置异常的各种信息，我们可以参阅：https://docs.python.org/zh-cn/3/library/exceptions.html#bltin-exceptions"
    },
    {
      "metadata": {},
      "cell_type": "markdown",
      "source": "### 处理异常"
    },
    {
      "metadata": {},
      "cell_type": "markdown",
      "source": "Python提供了可以处理异常的方法。下面我会提供一个例子，要求用户一直输入，直到输入了一个有效的整数（用户可以中断操作）。"
    },
    {
      "metadata": {
        "trusted": false
      },
      "cell_type": "code",
      "source": "while True:\n    try:\n        x = int(input('请输入一个数字：'))\n        break\n    except ValueError:\n        print('你个哈批的根本就不是数字，你再输！')\n    except KeyboardInterrupt:\n        print('你个哈批竟然打断我？！你再骂？')",
      "execution_count": 13,
      "outputs": [
        {
          "name": "stdout",
          "output_type": "stream",
          "text": "请输入一个数字：sd\n你个哈批的根本就不是数字，你再输！\n请输入一个数字：sd\n你个哈批的根本就不是数字，你再输！\n请输入一个数字：we\n你个哈批的根本就不是数字，你再输！\n请输入一个数字：12\n"
        }
      ]
    },
    {
      "metadata": {},
      "cell_type": "markdown",
      "source": "try语句的工作原理如下：\n-首先，执行 try 子句 （try 和 except 关键字之间的（多行）语句）。<br>\n-如果没有异常发生，则跳过 except 子句 并完成 try 语句的执行。<br>\n-如果在执行try 子句时发生了异常，则跳过该子句中剩下的部分。然后，如果异常的类型和 except 关键字后面的异常匹配，则执行 except 子句 ，然后继续执行 try 语句之后的代码。<br>\n-如果发生的异常和 except 子句中指定的异常不匹配，则将其传递到外部的 try 语句中；如果没有找到处理程序，则它是一个 未处理异常，执行将停止并显示如上所示的消息。<br>"
    },
    {
      "metadata": {},
      "cell_type": "markdown",
      "source": "https://docs.python.org/zh-cn/3/tutorial/errors.html"
    }
  ],
  "metadata": {
    "kernelspec": {
      "name": "python3",
      "display_name": "Python 3",
      "language": "python"
    },
    "language_info": {
      "mimetype": "text/x-python",
      "nbconvert_exporter": "python",
      "name": "python",
      "pygments_lexer": "ipython3",
      "version": "3.5.4",
      "file_extension": ".py",
      "codemirror_mode": {
        "version": 3,
        "name": "ipython"
      }
    }
  },
  "nbformat": 4,
  "nbformat_minor": 2
}
